{
 "cells": [
  {
   "cell_type": "markdown",
   "metadata": {},
   "source": [
    "## Problem Statement"
   ]
  },
  {
   "cell_type": "markdown",
   "metadata": {},
   "source": [
    "# 8 different kind of work has to be done {a, b, c, d, e, f, g, h}. But\n",
    "# there are some rules:\n",
    "#  a must be done after b, d\n",
    "#  b must be done after c, d and e\n",
    "#  g must be done before e, f and after h\n",
    "#  e must be done before b, c and d\n",
    "#  f must be done before d and e\n",
    "# Give an ordering of the jobs."
   ]
  },
  {
   "cell_type": "markdown",
   "metadata": {},
   "source": [
    "# Extra infromation h is the mother node"
   ]
  },
  {
   "cell_type": "code",
   "execution_count": null,
   "metadata": {},
   "outputs": [],
   "source": []
  },
  {
   "cell_type": "code",
   "execution_count": 2,
   "metadata": {},
   "outputs": [],
   "source": [
    "# graph convirsion \n",
    "G={\n",
    "    \"a\": {},\n",
    "    \"b\": {\"a\",\"c\"},\n",
    "    \"c\": {\"b\"},\n",
    "    \"d\": {\"a\", \"b\"},\n",
    "    \"e\": {\"b\",\"c\",\"d\"},\n",
    "    \"f\": {\"d\",\"e\"},\n",
    "    \"g\": {\"e\",\"f\", \"h\"},\n",
    "    \"h\": {\"g\"}\n",
    "}\n"
   ]
  },
  {
   "cell_type": "code",
   "execution_count": 3,
   "metadata": {},
   "outputs": [],
   "source": [
    "visited={}\n",
    "time={}"
   ]
  },
  {
   "cell_type": "code",
   "execution_count": 4,
   "metadata": {},
   "outputs": [],
   "source": [
    "# marking all visited equals to zero\n",
    "for a in G.keys():\n",
    "    visited[a]=0"
   ]
  },
  {
   "cell_type": "code",
   "execution_count": 5,
   "metadata": {},
   "outputs": [],
   "source": [
    "# marking all time equals to zero\n",
    "for a in G.keys():\n",
    "    time[a]=0"
   ]
  },
  {
   "cell_type": "code",
   "execution_count": 6,
   "metadata": {},
   "outputs": [],
   "source": [
    "def DFS(a,i):\n",
    "    visited[a]=1\n",
    "    for u in G[a]:\n",
    "        if visited[u]==0:\n",
    "            print(a, \"to\" ,u)\n",
    "            DFS(u,i)\n",
    "            i=i+1 #when the node is finished(exploied) we increse count 1\n",
    "            "
   ]
  },
  {
   "cell_type": "markdown",
   "metadata": {},
   "source": [
    "## DFS "
   ]
  },
  {
   "cell_type": "code",
   "execution_count": 7,
   "metadata": {},
   "outputs": [
    {
     "name": "stdout",
     "output_type": "stream",
     "text": [
      "h to g\n",
      "g to e\n",
      "e to c\n",
      "c to b\n",
      "b to a\n",
      "e to d\n",
      "g to f\n"
     ]
    }
   ],
   "source": [
    "DFS(\"h\",0)"
   ]
  },
  {
   "cell_type": "code",
   "execution_count": null,
   "metadata": {},
   "outputs": [],
   "source": [
    "# Note there is parallel work like g and f can be done parallel "
   ]
  }
 ],
 "metadata": {
  "kernelspec": {
   "display_name": "Python 3",
   "language": "python",
   "name": "python3"
  },
  "language_info": {
   "codemirror_mode": {
    "name": "ipython",
    "version": 3
   },
   "file_extension": ".py",
   "mimetype": "text/x-python",
   "name": "python",
   "nbconvert_exporter": "python",
   "pygments_lexer": "ipython3",
   "version": "3.8.5"
  }
 },
 "nbformat": 4,
 "nbformat_minor": 4
}
